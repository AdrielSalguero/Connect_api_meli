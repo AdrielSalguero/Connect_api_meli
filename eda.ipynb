{
 "cells": [
  {
   "cell_type": "code",
   "execution_count": 43,
   "metadata": {},
   "outputs": [],
   "source": [
    "from os import link, name\n",
    "import requests \n",
    "import pandas as pd\n",
    "import json\n",
    "from matplotlib import pyplot as plt"
   ]
  },
  {
   "cell_type": "code",
   "execution_count": 62,
   "metadata": {},
   "outputs": [
    {
     "data": {
      "text/plain": [
       "{'CHORMECAST': 'https://api.mercadolibre.com/sites/MLA/search?q=chromecast&limit=50#json',\n",
       " 'SMARTV': 'https://api.mercadolibre.com/sites/MLA/search?q=smart-tv-tv&limit=50#json',\n",
       " 'AMAZON': 'https://api.mercadolibre.com/sites/MLA/search?q=AmazonFire=TV&limit=50#json',\n",
       " 'XIAOMI': 'https://api.mercadolibre.com/sites/MLA/search?q=xiaomi-tv&limit=50#json'}"
      ]
     },
     "execution_count": 62,
     "metadata": {},
     "output_type": "execute_result"
    }
   ],
   "source": [
    "urls = {'CHORMECAST':'https://api.mercadolibre.com/sites/MLA/search?q=chromecast&limit=50#json', \n",
    "            'SMARTV': 'https://api.mercadolibre.com/sites/MLA/search?q=smart-tv-tv&limit=50#json',\n",
    "            'AMAZON': 'https://api.mercadolibre.com/sites/MLA/search?q=AmazonFire=TV&limit=50#json',\n",
    "            'XIAOMI': 'https://api.mercadolibre.com/sites/MLA/search?q=xiaomi-tv&limit=50#json'}         \n",
    "urls"
   ]
  },
  {
   "cell_type": "code",
   "execution_count": 45,
   "metadata": {},
   "outputs": [],
   "source": [
    "#df = database[database['title'].str.contains('GOOGLE', case=False)] chequeo que sean de Google_\n",
    "def clean(df):\n",
    "\n",
    "    df['state'] = df['seller_address'].apply(lambda x: x['state']['name'])\n",
    "    df['city'] = df['seller_address'].apply(lambda x: x['city']['name'])\n",
    "    df['seller']= df['seller'].apply(lambda x:x['nickname'])\n",
    "    df=df[['id','title','price','available_quantity','city','state','seller']]\n",
    "    \n",
    "    return df "
   ]
  },
  {
   "cell_type": "code",
   "execution_count": 46,
   "metadata": {},
   "outputs": [
    {
     "name": "stderr",
     "output_type": "stream",
     "text": [
      "C:\\Users\\Usuario\\AppData\\Local\\Temp\\ipykernel_10688\\1239271642.py:12: SettingWithCopyWarning: \n",
      "A value is trying to be set on a copy of a slice from a DataFrame.\n",
      "Try using .loc[row_indexer,col_indexer] = value instead\n",
      "\n",
      "See the caveats in the documentation: https://pandas.pydata.org/pandas-docs/stable/user_guide/indexing.html#returning-a-view-versus-a-copy\n",
      "  cleaned_df['Brand']= clave\n"
     ]
    }
   ],
   "source": [
    "dataframe = pd.DataFrame()\n",
    "for clave,valor in urls.items():\n",
    "\n",
    "    link=valor\n",
    "    try:\n",
    "        response = requests.get(link)\n",
    "    \n",
    "        if response.status_code == 200:\n",
    "            # Tu código para obtener los datos\n",
    "            df = pd.DataFrame(requests.get(link).json()['results'])\n",
    "            cleaned_df= clean(df)\n",
    "            cleaned_df['Brand']= clave\n",
    "            dataframe= pd.concat([dataframe,cleaned_df])\n",
    "\n",
    "        else:\n",
    "            raise ValueError(f'Error: {response.status_code}')\n",
    "        \n",
    "    except ValueError as ve:\n",
    "        print(ve)\n",
    "    \n",
    "dataframe.to_csv('cleaned.csv')"
   ]
  },
  {
   "cell_type": "code",
   "execution_count": 71,
   "metadata": {},
   "outputs": [
    {
     "name": "stdout",
     "output_type": "stream",
     "text": [
      "https://api.mercadolibre.com/sites/MLA/search?q=chromecast&limit=50#json\n",
      "https://api.mercadolibre.com/sites/MLA/search?q=smart-tv-tv&limit=50#json\n",
      "https://api.mercadolibre.com/sites/MLA/search?q=AmazonFire=TV&limit=50#json\n",
      "https://api.mercadolibre.com/sites/MLA/search?q=xiaomi-tv&limit=50#json\n"
     ]
    }
   ],
   "source": [
    "\n",
    "def transform(results,dataframe):\n",
    "    rows = []\n",
    "    for result in results:\n",
    "        title = result.get('title')\n",
    "        price = result.get('price')\n",
    "        available_quantity = result.get('available_quantity')\n",
    "        seller = result.get('seller',{}).get('nickname')\n",
    "        city = result.get('seller_address',{}).get('city',{}).get('name')\n",
    "        state = result.get('seller_address',{}).get('state',{}).get('name')\n",
    "        \n",
    "        rows.append([title, price, available_quantity, seller, city, state])\n",
    "        \n",
    "    return pd.DataFrame(rows, columns=['title', 'price', 'available_quantity', 'seller', 'city', 'state'])\n",
    "\n",
    "\n",
    "dataframe = pd.DataFrame(columns =['title','price','available_quantity','seller','city','state'])                          \n",
    "\n",
    "for clave,valor in urls.items():\n",
    "\n",
    "    link=valor\n",
    "    try:\n",
    "        response = requests.get(link)\n",
    "    \n",
    "        if response.status_code == 200:\n",
    "            # Tu código para obtener los datos\n",
    "            print(link)\n",
    "            data = response.json()\n",
    "            results = data.get('results',[]) \n",
    "            cleaned_df= transform(results,dataframe)\n",
    "            cleaned_df['Brand']= clave\n",
    "            dataframe = dataframe.append(cleaned_df, ignore_index=True)\n",
    "            \n",
    "        else:\n",
    "            raise ValueError(f'Error: {response.status_code}')\n",
    "        \n",
    "    except ValueError as ve:\n",
    "        print(ve)\n",
    "    \n",
    "dataframe.to_csv('cleaned_from_get.csv')"
   ]
  }
 ],
 "metadata": {
  "kernelspec": {
   "display_name": "Python 3",
   "language": "python",
   "name": "python3"
  },
  "language_info": {
   "codemirror_mode": {
    "name": "ipython",
    "version": 3
   },
   "file_extension": ".py",
   "mimetype": "text/x-python",
   "name": "python",
   "nbconvert_exporter": "python",
   "pygments_lexer": "ipython3",
   "version": "3.10.1"
  },
  "orig_nbformat": 4
 },
 "nbformat": 4,
 "nbformat_minor": 2
}
